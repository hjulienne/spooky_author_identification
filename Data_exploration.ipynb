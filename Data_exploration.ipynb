{
 "cells": [
  {
   "cell_type": "code",
   "execution_count": 81,
   "metadata": {
    "collapsed": true
   },
   "outputs": [],
   "source": [
    "import pandas as pd \n",
    "import nltk\n",
    "import seaborn as sns\n",
    "import plotly \n",
    "\n",
    "import sklearn.feature_extraction.text as sktxt\n",
    "from nltk.stem import LancasterStemmer, WordNetLemmatizer\n",
    "from nltk.corpus import stopwords\n",
    "\n",
    "from nltk.corpus import wordnet as wn\n",
    "\n",
    "train_data = pd.read_csv(\"./train.csv\")\n",
    "\n",
    "train_data.head(3)\n",
    "\n",
    "my_steamy = LancasterStemmer()\n",
    "\n",
    "my_lemmy = WordNetLemmatizer()\n",
    "\n",
    "my_lemmy.lemmatize(\"fumbling\",\"v\")\n",
    "\n"
   ]
  },
  {
   "cell_type": "code",
   "execution_count": 85,
   "metadata": {
    "collapsed": false
   },
   "outputs": [],
   "source": [
    "import SAI_utils"
   ]
  },
  {
   "cell_type": "code",
   "execution_count": 68,
   "metadata": {
    "collapsed": false
   },
   "outputs": [],
   "source": [
    "CV = sktxt.CountVectorizer(stop_words=\"english\") \n",
    "CV.fit_transform(train_data.text[:5].apply(preprocessing_wth_stemmer)).todense()"
   ]
  },
  {
   "cell_type": "code",
   "execution_count": 49,
   "metadata": {
    "collapsed": false
   },
   "outputs": [
    {
     "ename": "NameError",
     "evalue": "name 'preprocessing' is not defined",
     "output_type": "error",
     "traceback": [
      "\u001b[1;31m---------------------------------------------------------------------------\u001b[0m",
      "\u001b[1;31mNameError\u001b[0m                                 Traceback (most recent call last)",
      "\u001b[1;32m<ipython-input-49-d77ad450ec68>\u001b[0m in \u001b[0;36m<module>\u001b[1;34m()\u001b[0m\n\u001b[1;32m----> 1\u001b[1;33m \u001b[1;34m' '\u001b[0m\u001b[1;33m.\u001b[0m\u001b[0mjoin\u001b[0m\u001b[1;33m(\u001b[0m\u001b[0mtrain_data\u001b[0m\u001b[1;33m.\u001b[0m\u001b[0mtext\u001b[0m\u001b[1;33m[\u001b[0m\u001b[1;33m:\u001b[0m\u001b[1;36m5\u001b[0m\u001b[1;33m]\u001b[0m\u001b[1;33m.\u001b[0m\u001b[0mapply\u001b[0m\u001b[1;33m(\u001b[0m\u001b[0mpreprocessing\u001b[0m\u001b[1;33m)\u001b[0m\u001b[1;33m[\u001b[0m\u001b[1;36m0\u001b[0m\u001b[1;33m]\u001b[0m\u001b[1;33m)\u001b[0m\u001b[1;33m\u001b[0m\u001b[0m\n\u001b[0m",
      "\u001b[1;31mNameError\u001b[0m: name 'preprocessing' is not defined"
     ]
    }
   ],
   "source": [
    "' '.join(train_data.text[:5].apply(preprocessing)[0])"
   ]
  },
  {
   "cell_type": "code",
   "execution_count": 50,
   "metadata": {
    "collapsed": false
   },
   "outputs": [
    {
     "data": {
      "text/plain": [
       "{u'abandon': 0,\n",
       " u'afford': 1,\n",
       " u'air': 2,\n",
       " u'al': 3,\n",
       " u'ascertain': 4,\n",
       " u'attempt': 5,\n",
       " u'aw': 6,\n",
       " u'benea': 7,\n",
       " u'box': 8,\n",
       " u'cap': 9,\n",
       " u'che': 10,\n",
       " u'circuit': 11,\n",
       " u'cot': 12,\n",
       " u'count': 13,\n",
       " u'county': 14,\n",
       " u'cut': 15,\n",
       " u'desk': 16,\n",
       " u'dimend': 17,\n",
       " u'dungeon': 18,\n",
       " u'els': 19,\n",
       " u'ev': 20,\n",
       " u'fact': 21,\n",
       " u'fair': 22,\n",
       " u'fantast': 23,\n",
       " u'fertil': 24,\n",
       " u'form': 25,\n",
       " u'fumbl': 26,\n",
       " u'gold': 27,\n",
       " u'greatest': 28,\n",
       " u'hand': 29,\n",
       " u'happy': 30,\n",
       " u'heart': 31,\n",
       " u'hil': 32,\n",
       " u'howev': 33,\n",
       " u'incess': 34,\n",
       " u'left': 35,\n",
       " u'look': 36,\n",
       " u'lov': 37,\n",
       " u'mak': 38,\n",
       " u'man': 39,\n",
       " u'mean': 40,\n",
       " u'mer': 41,\n",
       " u'mistak': 42,\n",
       " u'nev': 43,\n",
       " u'noth': 44,\n",
       " u'occas': 45,\n",
       " u'occur': 46,\n",
       " u'ont': 47,\n",
       " u'ov': 48,\n",
       " u'perfect': 49,\n",
       " u'perplex': 50,\n",
       " u'point': 51,\n",
       " u'poss': 52,\n",
       " u'process': 53,\n",
       " u'return': 54,\n",
       " u'satisfact': 55,\n",
       " u'self': 56,\n",
       " u'set': 57,\n",
       " u'sit': 58,\n",
       " u'sixteen': 59,\n",
       " u'snuff': 60,\n",
       " u'speckl': 61,\n",
       " u'spread': 62,\n",
       " u'spring': 63,\n",
       " u'ste': 64,\n",
       " u'step': 65,\n",
       " u'superintend': 66,\n",
       " u'terrac': 67,\n",
       " u'thi': 68,\n",
       " u'think': 69,\n",
       " u'took': 70,\n",
       " u'town': 71,\n",
       " u'uniform': 72,\n",
       " u'wal': 73,\n",
       " u'wealthy': 74,\n",
       " u'whent': 75,\n",
       " u'winds': 76,\n",
       " u'year': 77}"
      ]
     },
     "execution_count": 50,
     "metadata": {},
     "output_type": "execute_result"
    }
   ],
   "source": [
    "CV.vocabulary_"
   ]
  },
  {
   "cell_type": "code",
   "execution_count": null,
   "metadata": {
    "collapsed": true
   },
   "outputs": [],
   "source": []
  },
  {
   "cell_type": "code",
   "execution_count": null,
   "metadata": {
    "collapsed": true
   },
   "outputs": [],
   "source": []
  }
 ],
 "metadata": {
  "kernelspec": {
   "display_name": "Python [conda root]",
   "language": "python",
   "name": "conda-root-py"
  },
  "language_info": {
   "codemirror_mode": {
    "name": "ipython",
    "version": 2
   },
   "file_extension": ".py",
   "mimetype": "text/x-python",
   "name": "python",
   "nbconvert_exporter": "python",
   "pygments_lexer": "ipython2",
   "version": "2.7.12"
  },
  "toc": {
   "colors": {
    "hover_highlight": "#DAA520",
    "navigate_num": "#000000",
    "navigate_text": "#333333",
    "running_highlight": "#FF0000",
    "selected_highlight": "#FFD700",
    "sidebar_border": "#EEEEEE",
    "wrapper_background": "#FFFFFF"
   },
   "moveMenuLeft": true,
   "nav_menu": {
    "height": "12px",
    "width": "252px"
   },
   "navigate_menu": true,
   "number_sections": true,
   "sideBar": true,
   "threshold": 4,
   "toc_cell": false,
   "toc_section_display": "block",
   "toc_window_display": false,
   "widenNotebook": false
  }
 },
 "nbformat": 4,
 "nbformat_minor": 2
}
